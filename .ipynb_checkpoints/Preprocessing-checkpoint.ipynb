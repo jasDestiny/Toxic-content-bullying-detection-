{
 "cells": [
  {
   "cell_type": "code",
   "execution_count": 29,
   "metadata": {},
   "outputs": [],
   "source": [
    "# importing the dataset\n",
    "\n",
    "import pandas as pd\n",
    "df = pd.read_csv(\"train.csv\")"
   ]
  },
  {
   "cell_type": "code",
   "execution_count": 30,
   "metadata": {},
   "outputs": [
    {
     "name": "stdout",
     "output_type": "stream",
     "text": [
      "Number of entries: 159571\n"
     ]
    }
   ],
   "source": [
    "print(\"Number of entries:\",len(df))\n",
    "class_label=[\"toxic\", \"severe_toxic\", \"obscene\", \"threat\", \"insult\", \"identity_hate\"]\n",
    "comments=df.comment_text\n",
    "toxic= df.toxic\n",
    "severe_toxic= df.severe_toxic\n",
    "obscene= df.obscene\n",
    "threat= df.threat\n",
    "insult= df.insult\n",
    "identity_hate= df.identity_hate"
   ]
  },
  {
   "cell_type": "code",
   "execution_count": 24,
   "metadata": {},
   "outputs": [
    {
     "name": "stdout",
     "output_type": "stream",
     "text": [
      "['\\nand', '', 'i', 'really', 'dont', 'think', 'you', 'understand', '', 'i', 'came', 'here', 'and', 'my', 'idea', 'was', 'bad', 'right', 'away', '', 'what', 'kind', 'of', 'community', 'goes', 'you', 'have', 'bad', 'ideas', 'go', 'away', 'instead', 'of', 'helping', 'rewrite', 'them', '', '', '']\n"
     ]
    }
   ],
   "source": [
    "# data cleaning- removing punctuations, convrting to lower case\n",
    "\n",
    "import string\n",
    "\n",
    "clean_text=[]\n",
    "for i in comments:\n",
    "    texts=i.split(' ')\n",
    "    arr=[]\n",
    "    for j in texts:\n",
    "        j=j.translate(str.maketrans('', '', string.punctuation))\n",
    "        j=j.lower()\n",
    "        arr.append(j)\n",
    "    clean_text.append(arr)    "
   ]
  },
  {
   "cell_type": "code",
   "execution_count": 32,
   "metadata": {},
   "outputs": [
    {
     "name": "stdout",
     "output_type": "stream",
     "text": [
      "[[], [0, 1, 2, 4], [], [], []]\n"
     ]
    }
   ],
   "source": [
    "# storing results for each indices in class-index form\n",
    "\n",
    "result=[]\n",
    "for i in range(len(df)):\n",
    "    arr=[]\n",
    "    if toxic[i]==1:\n",
    "        arr.append(0)\n",
    "    if severe_toxic[i]==1:\n",
    "        arr.append(1)\n",
    "    if obscene[i]==1:\n",
    "        arr.append(2)\n",
    "    if threat[i]==1:\n",
    "        arr.append(3)\n",
    "    if insult[i]==1:\n",
    "        arr.append(4)\n",
    "    if identity_hate[i]==1:\n",
    "        arr.append(5)\n",
    "    result.append(arr)"
   ]
  },
  {
   "cell_type": "code",
   "execution_count": 36,
   "metadata": {},
   "outputs": [],
   "source": [
    "# storing the data with toxic content and discarding the rest\n",
    "\n",
    "sig_clean_text=[]\n",
    "sig_results=[]\n",
    "\n",
    "for i in range(len(df)):\n",
    "    if result[i]!=[]:\n",
    "        sig_results.append(result[i])\n",
    "        sig_clean_text.append(clean_text[i])"
   ]
  },
  {
   "cell_type": "code",
   "execution_count": 41,
   "metadata": {},
   "outputs": [
    {
     "name": "stdout",
     "output_type": "stream",
     "text": [
      "[[0, 1, 2, 4], [0], [0], [0, 2, 4, 5], [0, 2, 4]]\n",
      "[['cocksucker', 'before', 'you', 'piss', 'around', 'on', 'my', 'work'], ['hey', 'what', 'is', 'it\\n', '', 'talk', '\\nwhat', 'is', 'it', 'an', 'exclusive', 'group', 'of', 'some', 'wp', 'talibanswho', 'are', 'good', 'at', 'destroying', 'selfappointed', 'purist', 'who', 'gang', 'up', 'any', 'one', 'who', 'asks', 'them', 'questions', 'abt', 'their', 'antisocial', 'and', 'destructive', 'noncontribution', 'at', 'wp\\n\\nask', 'sityush', 'to', 'clean', 'up', 'his', 'behavior', 'than', 'issue', 'me', 'nonsensical', 'warnings'], ['bye', '\\n\\ndont', 'look', 'come', 'or', 'think', 'of', 'comming', 'back', 'tosser'], ['you', 'are', 'gay', 'or', 'antisemmitian', '\\n\\narchangel', 'white', 'tiger\\n\\nmeow', 'greetingshhh\\n\\nuh', 'there', 'are', 'two', 'ways', 'why', 'you', 'do', 'erased', 'my', 'comment', 'about', 'ww2', 'that', 'holocaust', 'was', 'brutally', 'slaying', 'of', 'jews', 'and', 'not', 'gaysgypsysslavsanyone\\n\\n1', '', 'if', 'you', 'are', 'antisemitian', 'than', 'shave', 'your', 'head', 'bald', 'and', 'go', 'to', 'the', 'skinhead', 'meetings\\n\\n2', '', 'if', 'you', 'doubt', 'words', 'of', 'the', 'bible', 'that', 'homosexuality', 'is', 'a', 'deadly', 'sin', 'make', 'a', 'pentagram', 'tatoo', 'on', 'your', 'forehead', 'go', 'to', 'the', 'satanistic', 'masses', 'with', 'your', 'gay', 'pals\\n\\n3', '', 'first', 'and', 'last', 'warning', 'you', 'fucking', 'gay', '', 'i', 'wont', 'appreciate', 'if', 'any', 'more', 'nazi', 'shwain', 'would', 'write', 'in', 'my', 'page', 'i', 'dont', 'wish', 'to', 'talk', 'to', 'you', 'anymore\\n\\nbeware', 'of', 'the', 'dark', 'side'], ['fuck', 'your', 'filthy', 'mother', 'in', 'the', 'ass', 'dry']]\n"
     ]
    }
   ],
   "source": [
    "# Sample result\n",
    "\n",
    "print(sig_results[0:5])\n",
    "print(sig_clean_text[0:5])"
   ]
  },
  {
   "cell_type": "code",
   "execution_count": 44,
   "metadata": {},
   "outputs": [
    {
     "ename": "AttributeError",
     "evalue": "'str' object has no attribute 'write'",
     "output_type": "error",
     "traceback": [
      "\u001b[1;31m---------------------------------------------------------------------------\u001b[0m",
      "\u001b[1;31mAttributeError\u001b[0m                            Traceback (most recent call last)",
      "\u001b[1;32m<ipython-input-44-83e35dd6f228>\u001b[0m in \u001b[0;36m<module>\u001b[1;34m\u001b[0m\n\u001b[0;32m      3\u001b[0m \u001b[1;32mimport\u001b[0m \u001b[0mjson\u001b[0m\u001b[1;33m\u001b[0m\u001b[1;33m\u001b[0m\u001b[0m\n\u001b[0;32m      4\u001b[0m \u001b[1;33m\u001b[0m\u001b[0m\n\u001b[1;32m----> 5\u001b[1;33m \u001b[0mjson\u001b[0m\u001b[1;33m.\u001b[0m\u001b[0mdump\u001b[0m\u001b[1;33m(\u001b[0m\u001b[1;33m{\u001b[0m\u001b[1;34m\"result\"\u001b[0m\u001b[1;33m:\u001b[0m\u001b[0msig_results\u001b[0m\u001b[1;33m,\u001b[0m \u001b[1;34m\"clean_text\"\u001b[0m\u001b[1;33m:\u001b[0m\u001b[0msig_clean_text\u001b[0m\u001b[1;33m}\u001b[0m\u001b[1;33m,\u001b[0m \u001b[1;34m\"cleaned_dataset.json\"\u001b[0m\u001b[1;33m)\u001b[0m\u001b[1;33m\u001b[0m\u001b[1;33m\u001b[0m\u001b[0m\n\u001b[0m",
      "\u001b[1;32mC:\\Users\\JohnConda\\lib\\json\\__init__.py\u001b[0m in \u001b[0;36mdump\u001b[1;34m(obj, fp, skipkeys, ensure_ascii, check_circular, allow_nan, cls, indent, separators, default, sort_keys, **kw)\u001b[0m\n\u001b[0;32m    178\u001b[0m     \u001b[1;31m# a debuggability cost\u001b[0m\u001b[1;33m\u001b[0m\u001b[1;33m\u001b[0m\u001b[1;33m\u001b[0m\u001b[0m\n\u001b[0;32m    179\u001b[0m     \u001b[1;32mfor\u001b[0m \u001b[0mchunk\u001b[0m \u001b[1;32min\u001b[0m \u001b[0miterable\u001b[0m\u001b[1;33m:\u001b[0m\u001b[1;33m\u001b[0m\u001b[1;33m\u001b[0m\u001b[0m\n\u001b[1;32m--> 180\u001b[1;33m         \u001b[0mfp\u001b[0m\u001b[1;33m.\u001b[0m\u001b[0mwrite\u001b[0m\u001b[1;33m(\u001b[0m\u001b[0mchunk\u001b[0m\u001b[1;33m)\u001b[0m\u001b[1;33m\u001b[0m\u001b[1;33m\u001b[0m\u001b[0m\n\u001b[0m\u001b[0;32m    181\u001b[0m \u001b[1;33m\u001b[0m\u001b[0m\n\u001b[0;32m    182\u001b[0m \u001b[1;33m\u001b[0m\u001b[0m\n",
      "\u001b[1;31mAttributeError\u001b[0m: 'str' object has no attribute 'write'"
     ]
    }
   ],
   "source": [
    "# Storing in json file\n",
    "\n",
    "import json\n",
    "\n",
    "json.dump({\"result\":sig_results, \"clean_text\":sig_clean_text}, open(\"cleaned_dataset.json\", \"w\"))"
   ]
  }
 ],
 "metadata": {
  "kernelspec": {
   "display_name": "Python 3",
   "language": "python",
   "name": "python3"
  },
  "language_info": {
   "codemirror_mode": {
    "name": "ipython",
    "version": 3
   },
   "file_extension": ".py",
   "mimetype": "text/x-python",
   "name": "python",
   "nbconvert_exporter": "python",
   "pygments_lexer": "ipython3",
   "version": "3.7.6"
  }
 },
 "nbformat": 4,
 "nbformat_minor": 4
}
